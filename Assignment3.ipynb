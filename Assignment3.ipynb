{
 "cells": [
  {
   "cell_type": "code",
   "execution_count": 2,
   "metadata": {},
   "outputs": [],
   "source": [
    "import pandas as pd\n",
    "import numpy as np"
   ]
  },
  {
   "cell_type": "code",
   "execution_count": 4,
   "metadata": {},
   "outputs": [
    {
     "name": "stdout",
     "output_type": "stream",
     "text": [
      "id                                  int64\n",
      "name                               object\n",
      "host_id                             int64\n",
      "host_name                          object\n",
      "neighbourhood_group                object\n",
      "neighbourhood                      object\n",
      "latitude                          float64\n",
      "longitude                         float64\n",
      "room_type                          object\n",
      "price                               int64\n",
      "minimum_nights                      int64\n",
      "number_of_reviews                   int64\n",
      "last_review                        object\n",
      "reviews_per_month                 float64\n",
      "calculated_host_listings_count      int64\n",
      "availability_365                    int64\n",
      "dtype: object\n",
      "True\n"
     ]
    }
   ],
   "source": [
    "databnb = pd.read_csv(\"listings.csv\")\n",
    "print(databnb.dtypes)\n",
    "print(databnb.isna().values.any())"
   ]
  },
  {
   "cell_type": "code",
   "execution_count": 5,
   "metadata": {},
   "outputs": [
    {
     "name": "stdout",
     "output_type": "stream",
     "text": [
      "Discrete : \n",
      "   minimum_nights\n",
      "0             180\n",
      "1              90\n",
      "2               6\n",
      "3               1\n",
      "4               1\n",
      "\n",
      "\n",
      "\n",
      "Continue : \n",
      "   latitude  longitude  price  number_of_reviews  reviews_per_month  \\\n",
      "0   1.44255  103.79580     83                  1               0.01   \n",
      "1   1.33235  103.78521     81                 18               0.28   \n",
      "2   1.44246  103.79667     69                 20               0.20   \n",
      "3   1.34541  103.95712    206                 14               0.15   \n",
      "4   1.34567  103.95963     94                 22               0.22   \n",
      "\n",
      "   calculated_host_listings_count  availability_365  \n",
      "0                               2               365  \n",
      "1                               1               365  \n",
      "2                               2               365  \n",
      "3                               9               353  \n",
      "4                               9               355  \n",
      "\n",
      "\n",
      "\n"
     ]
    }
   ],
   "source": [
    "newdatabnbdiscrete = databnb[[\"minimum_nights\"]]\n",
    "newdatabnbcontinue = databnb[[\"latitude\", \"longitude\", \"price\", \"number_of_reviews\", \"reviews_per_month\", \"calculated_host_listings_count\", \"availability_365\"]]\n",
    "print(\"Discrete : \\n{}\\n\\n\\n\".format(newdatabnbdiscrete.head()))\n",
    "print(\"Continue : \\n{}\\n\\n\\n\".format(newdatabnbcontinue.head()))"
   ]
  },
  {
   "cell_type": "code",
   "execution_count": 8,
   "metadata": {},
   "outputs": [
    {
     "name": "stdout",
     "output_type": "stream",
     "text": [
      "New Discrete :  \n",
      "New mean = minimum_nights    17.510054\n",
      "dtype: float64\n",
      "\n",
      "New variance = minimum_nights    1771.732636\n",
      "dtype: float64\n",
      "\n",
      "New Continue : \n",
      "New mean = latitude                            1.314192\n",
      "longitude                         103.848787\n",
      "price                             169.332996\n",
      "number_of_reviews                  12.807386\n",
      "reviews_per_month                   1.043669\n",
      "calculated_host_listings_count     40.607689\n",
      "availability_365                  208.726318\n",
      "dtype: float64\n",
      "\n",
      "New variance = latitude                               0.000935\n",
      "longitude                              0.001907\n",
      "price                             115712.966513\n",
      "number_of_reviews                    882.438554\n",
      "reviews_per_month                      1.653092\n",
      "calculated_host_listings_count      4242.064633\n",
      "availability_365                   21348.364203\n",
      "dtype: float64\n",
      "\n"
     ]
    }
   ],
   "source": [
    "print(\"New Discrete :  \")\n",
    "print(\"New mean = {}\\n\".format(newdatabnbdiscrete.mean()))\n",
    "print(\"New variance = {}\\n\".format(np.var(newdatabnbdiscrete)))\n",
    "print(\"New Continue : \")\n",
    "print(\"New mean = {}\\n\".format(newdatabnbcontinue.mean()))\n",
    "print(\"New variance = {}\\n\".format(np.var(newdatabnbcontinue)))"
   ]
  },
  {
   "cell_type": "code",
   "execution_count": null,
   "metadata": {},
   "outputs": [],
   "source": []
  }
 ],
 "metadata": {
  "kernelspec": {
   "display_name": "Python 3",
   "language": "python",
   "name": "python3"
  },
  "language_info": {
   "codemirror_mode": {
    "name": "ipython",
    "version": 3
   },
   "file_extension": ".py",
   "mimetype": "text/x-python",
   "name": "python",
   "nbconvert_exporter": "python",
   "pygments_lexer": "ipython3",
   "version": "3.7.4"
  }
 },
 "nbformat": 4,
 "nbformat_minor": 4
}
